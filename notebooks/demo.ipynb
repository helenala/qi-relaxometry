{
 "cells": [
  {
   "cell_type": "markdown",
   "id": "302595d4",
   "metadata": {},
   "source": [
    "# Quantum Impurity Relaxometry\n",
    "\n",
    "Magnons are quanta of spin waves, which are modes of collectively precessing spins. Thermally excited magnons in thin magnetic films generate stray fields at the film surface which can be detected using quantum impurities such as nitrogen-vacancy (NV) centers. NVs are lattice defects in diamond and are able to couple with magnon stray fields. Assuming a thermal occupancy of magnon modes, we study the magnetization dynamics of the magnons propagating through thin magnetic insulators using the Landau-Lifshitz-Gilbert equation. We implement a numerical model to predict and understand the response of the NV center to proximal magnons in thin films. We investigate how the NV relaxation rate changes for different NV orientations by extending and generalizing the existing theory on chiral magnetic noise, and simulate an experimental setup for an NV placed just above the surface of an ultrathin magnetic insulator. The simulation includes a static bias field in an arbitrary orientation with respect to the quantization axis of the NV center using the diamond’s tetrahedral symmetry. This extended model is in demand due to limitations in present-day measurement techniques to align the bias field with an NV center.\n",
    "\n",
    "This module calculates and plots relaxation rates. The code in this repository is based on and an extension of the QI relaxometry theory presented in Rustagi et al. (2020) https://doi.org/10.1103/PhysRevB.102.220403."
   ]
  },
  {
   "cell_type": "markdown",
   "id": "afd08add",
   "metadata": {},
   "source": [
    "## Install the `qir` package"
   ]
  },
  {
   "cell_type": "code",
   "execution_count": null,
   "id": "18fb99b5",
   "metadata": {},
   "outputs": [],
   "source": [
    "%pip install qir"
   ]
  },
  {
   "cell_type": "markdown",
   "id": "58de1b22",
   "metadata": {},
   "source": [
    "## Import required modules\n",
    "\n",
    "Import the quantum impurity (QI) relaxometry module."
   ]
  },
  {
   "cell_type": "code",
   "execution_count": 2,
   "id": "99381f05",
   "metadata": {},
   "outputs": [
    {
     "name": "stdout",
     "output_type": "stream",
     "text": [
      "Requirement already satisfied: qir in /Users/helenala/Development/qi-relaxometry/.venv/lib/python3.9/site-packages (0.0.10)\n",
      "Requirement already satisfied: matplotlib~=3.5.2 in /Users/helenala/Development/qi-relaxometry/.venv/lib/python3.9/site-packages (from qir) (3.5.2)\n",
      "Requirement already satisfied: numpy~=1.22.3 in /Users/helenala/Development/qi-relaxometry/.venv/lib/python3.9/site-packages (from qir) (1.22.3)\n",
      "Requirement already satisfied: packaging>=20.0 in /Users/helenala/Development/qi-relaxometry/.venv/lib/python3.9/site-packages (from matplotlib~=3.5.2->qir) (21.3)\n",
      "Requirement already satisfied: fonttools>=4.22.0 in /Users/helenala/Development/qi-relaxometry/.venv/lib/python3.9/site-packages (from matplotlib~=3.5.2->qir) (4.33.3)\n",
      "Requirement already satisfied: python-dateutil>=2.7 in /Users/helenala/Development/qi-relaxometry/.venv/lib/python3.9/site-packages (from matplotlib~=3.5.2->qir) (2.8.2)\n",
      "Requirement already satisfied: kiwisolver>=1.0.1 in /Users/helenala/Development/qi-relaxometry/.venv/lib/python3.9/site-packages (from matplotlib~=3.5.2->qir) (1.4.2)\n",
      "Requirement already satisfied: pyparsing>=2.2.1 in /Users/helenala/Development/qi-relaxometry/.venv/lib/python3.9/site-packages (from matplotlib~=3.5.2->qir) (3.0.9)\n",
      "Requirement already satisfied: pillow>=6.2.0 in /Users/helenala/Development/qi-relaxometry/.venv/lib/python3.9/site-packages (from matplotlib~=3.5.2->qir) (9.1.0)\n",
      "Requirement already satisfied: cycler>=0.10 in /Users/helenala/Development/qi-relaxometry/.venv/lib/python3.9/site-packages (from matplotlib~=3.5.2->qir) (0.11.0)\n",
      "Requirement already satisfied: six>=1.5 in /Users/helenala/Development/qi-relaxometry/.venv/lib/python3.9/site-packages (from python-dateutil>=2.7->matplotlib~=3.5.2->qir) (1.16.0)\n",
      "Note: you may need to restart the kernel to use updated packages.\n"
     ]
    }
   ],
   "source": [
    "from qir import RelaxationRate, ZFS, GAMMA"
   ]
  },
  {
   "cell_type": "markdown",
   "id": "adce0b89",
   "metadata": {},
   "source": [
    "Import supporting modules."
   ]
  },
  {
   "cell_type": "code",
   "execution_count": 2,
   "id": "ac3a20bf",
   "metadata": {},
   "outputs": [],
   "source": [
    "import os\n",
    "import numpy as np\n",
    "from numpy import pi, linspace, empty_like\n",
    "import matplotlib.pyplot as plt\n",
    "import matplotlib.colors as colors"
   ]
  },
  {
   "cell_type": "markdown",
   "id": "80948bb7",
   "metadata": {},
   "source": [
    "Choose plot style, for instance `seaborn-poster`. For other styles, print `plt.style.available`."
   ]
  },
  {
   "cell_type": "code",
   "execution_count": 3,
   "id": "f66d9fec",
   "metadata": {},
   "outputs": [],
   "source": [
    "plt.style.use(\"seaborn\")"
   ]
  },
  {
   "cell_type": "markdown",
   "id": "b8075be3",
   "metadata": {},
   "source": [
    "## Call `RelaxationRate` class\n",
    "\n",
    "Choose parameters and call the relaxation rate."
   ]
  },
  {
   "cell_type": "code",
   "execution_count": 4,
   "id": "12eb128a",
   "metadata": {},
   "outputs": [],
   "source": [
    "B_ext = 31e-3\n",
    "Gamma = RelaxationRate(bext=B_ext,  \n",
    "                       quadrants=\"all\", \n",
    "                       zoom_in_heatmap=1.5,\n",
    "                       film_thickness=235e-9)"
   ]
  },
  {
   "cell_type": "markdown",
   "id": "fbef01d1",
   "metadata": {},
   "source": [
    "Check the input arguments."
   ]
  },
  {
   "cell_type": "code",
   "execution_count": 5,
   "id": "c6485fa9",
   "metadata": {},
   "outputs": [
    {
     "data": {
      "text/plain": [
       "{'self': <qir.RelaxationRate at 0x1063e3e20>,\n",
       " 'M_saturation': 142000.0,\n",
       " 'Gilbert_damping': 0.0001,\n",
       " 'A_exchange': 3.7e-12,\n",
       " 'dir_nv': [1, 1, 1],\n",
       " 'phi_nv': 0.0,\n",
       " 'omega': None,\n",
       " 'plusmin': -1,\n",
       " 'bext': 0.031,\n",
       " 'theta_bext': 0.9546951008408984,\n",
       " 'distance_nv': 1.09e-07,\n",
       " 'film_thickness': 2.35e-07,\n",
       " 'quadrants': 'all',\n",
       " 'zoom_in_heatmap': 1.5}"
      ]
     },
     "execution_count": 5,
     "metadata": {},
     "output_type": "execute_result"
    }
   ],
   "source": [
    "Gamma.init_locals"
   ]
  },
  {
   "cell_type": "markdown",
   "id": "a3be28c3",
   "metadata": {},
   "source": [
    "Get kx, ky meshgrids. Create integrand meshgrid corresponding to kx and ky:\n",
    "\n",
    "- If creating high-res 2D meshgrid plots, use at least `x_pixels = 500` and `y_pixels = 500`.\n",
    "- If calculating rate $\\Gamma$ vs field $B_{ext}$, use `x_pixels = 200` and `y_pixels = 6000`."
   ]
  },
  {
   "cell_type": "code",
   "execution_count": 6,
   "id": "61e96d4e",
   "metadata": {},
   "outputs": [],
   "source": [
    "Gamma.create_k_bounds()\n",
    "Gamma.create_k_meshgrids(x_pixels=1000, y_pixels=1000)\n",
    "Gamma.calculate_sum_di_dj_cij()\n",
    "Gamma.create_integrand_grid_exclude_nv_distance()\n",
    "Gamma.create_integrand_grid_include_nv_distance()"
   ]
  },
  {
   "cell_type": "markdown",
   "id": "2153a032",
   "metadata": {},
   "source": [
    "Get $k_x$, $k_y$ and $\\Gamma$ integrand."
   ]
  },
  {
   "cell_type": "code",
   "execution_count": 7,
   "id": "87a6c795",
   "metadata": {},
   "outputs": [],
   "source": [
    "X = Gamma.kx * 1e-6 / (2*pi)  # 2D numpy array [1/um]\n",
    "Y = Gamma.ky * 1e-6 / (2*pi)  # 2D numpy array [1/um]\n",
    "Z = Gamma.integrand_grid_include_nv_distance  # 2D numpy array [rad Hz]"
   ]
  },
  {
   "cell_type": "markdown",
   "id": "9b130e4b",
   "metadata": {},
   "source": [
    "Calculate minimum and maximum element in $\\Gamma$ integrand array."
   ]
  },
  {
   "cell_type": "code",
   "execution_count": 8,
   "id": "78598a93",
   "metadata": {},
   "outputs": [
    {
     "data": {
      "text/plain": [
       "(1.2562860455226852e-14, 0.0024013882427144657)"
      ]
     },
     "execution_count": 8,
     "metadata": {},
     "output_type": "execute_result"
    }
   ],
   "source": [
    "vmin = np.amin(Z)\n",
    "vmax = np.amax(Z)\n",
    "\n",
    "vmin, vmax"
   ]
  },
  {
   "cell_type": "markdown",
   "id": "630ec022",
   "metadata": {},
   "source": [
    "Create a directory to save plot figures."
   ]
  },
  {
   "cell_type": "code",
   "execution_count": 9,
   "id": "52800b85",
   "metadata": {},
   "outputs": [
    {
     "name": "stdout",
     "output_type": "stream",
     "text": [
      "Created: \n",
      "\t.plot-figures/txt_files\n",
      "Created: \n",
      "\t.plot-figures/figures\n"
     ]
    }
   ],
   "source": [
    "path = \"plot-figures\"\n",
    "\n",
    "# create directory in current folder\n",
    "os.mkdir(path) if not os.path.exists(path) else None\n",
    "\n",
    "path_txt = os.path.join(path, \"txt_files\")\n",
    "path_fig = os.path.join(path, \"figures\")\n",
    "os.mkdir(path_txt) if not os.path.exists(path_txt) else None\n",
    "os.mkdir(path_fig) if not os.path.exists(path_fig) else None\n",
    "\n",
    "print(f\"Created: \\n\\t.{path_txt}\")\n",
    "print(f\"Created: \\n\\t.{path_fig}\")"
   ]
  },
  {
   "cell_type": "markdown",
   "id": "76e39d80",
   "metadata": {},
   "source": [
    "Save meshgrid in txt files."
   ]
  },
  {
   "cell_type": "code",
   "execution_count": 10,
   "id": "2376c080",
   "metadata": {},
   "outputs": [
    {
     "name": "stdout",
     "output_type": "stream",
     "text": [
      "Saved in: \n",
      "\tplot-figures/heatmap_310G_X.txt\n",
      "\tplot-figures/heatmap_310G_Y.txt\n",
      "\tplot-figures/heatmap_310G_Z.txt\n"
     ]
    }
   ],
   "source": [
    "B = B_ext * 1e4  # external magnetic field [Gauss]\n",
    "path_txt_X = os.path.join(path, f\"heatmap_{B:.0f}G_X.txt\")\n",
    "path_txt_Y = os.path.join(path, f\"heatmap_{B:.0f}G_Y.txt\")\n",
    "path_txt_Z = os.path.join(path, f\"heatmap_{B:.0f}G_Z.txt\")\n",
    "np.savetxt(path_txt_X, X, header=f\"Meshgrid kx [1/um]; B_ext = {B:.0f} Gauss\")\n",
    "np.savetxt(path_txt_Y, Y, header=f\"Meshgrid ky [1/um]; B_ext = {B:.0f} Gauss\")\n",
    "np.savetxt(path_txt_Z, Z, header=f\"Log of Gamma integrand [Hz]; B_ext {B:.0f} Gauss\")\n",
    "print(f\"Saved in: \\n\\t{path_txt_X}\\n\\t{path_txt_Y}\\n\\t{path_txt_Z}\")"
   ]
  },
  {
   "cell_type": "markdown",
   "id": "34059888",
   "metadata": {},
   "source": [
    "## Plot: $\\Gamma_\\text{int}$ as function of $k_x$, $k_y$ in normal scale\n",
    "\n",
    "Plot 2D heatmap of the relaxation rate integrand $\\Gamma_\\text{int}$ as function of wave number components $k_x$ and $k_y$ using `pyplot.pcolormesh` in normal scale."
   ]
  },
  {
   "cell_type": "code",
   "execution_count": 11,
   "id": "293b587d",
   "metadata": {},
   "outputs": [
    {
     "data": {
      "image/png": "[encoded data removed]",
      "text/plain": [
       "<Figure size 432x288 with 2 Axes>"
      ]
     },
     "metadata": {
      "needs_background": "light"
     },
     "output_type": "display_data"
    }
   ],
   "source": [
    "fig0, ax0 = plt.subplots()\n",
    "\n",
    "# set plot labels\n",
    "ax0.set_xlabel(r\"$k_x/2\\mathregular{\\pi}$ (1/$\\mathregular{\\mu}$m)\", fontsize=18)\n",
    "ax0.set_ylabel(r\"$k_y/2\\mathregular{\\pi}$ (1/$\\mathregular{\\mu}$m)\", fontsize=18)\n",
    "\n",
    "# save pcolormesh\n",
    "im0 = ax0.pcolormesh(X, Y, Z, cmap='jet', shading=\"auto\")\n",
    "\n",
    "# set colorbar\n",
    "cbar0 = fig0.colorbar(im0)\n",
    "cbar0.set_label(r\"$\\Delta k \\sum_{i,j} D_i D_j C_{ij}$\", fontsize=18)"
   ]
  },
  {
   "cell_type": "markdown",
   "id": "f28f16ce",
   "metadata": {},
   "source": [
    "Save plot (optional)."
   ]
  },
  {
   "cell_type": "code",
   "execution_count": 12,
   "id": "8f59c290",
   "metadata": {},
   "outputs": [
    {
     "name": "stdout",
     "output_type": "stream",
     "text": [
      "Plot saved in: \n",
      "\tplot-figures/figures/heatmap.png\n"
     ]
    }
   ],
   "source": [
    "path_to_file = os.path.join(path_fig, \"heatmap.png\")\n",
    "fig0.savefig(path_to_file)\n",
    "print(f\"Plot saved in: \\n\\t{path_to_file}\")"
   ]
  },
  {
   "cell_type": "markdown",
   "id": "532dcf66",
   "metadata": {},
   "source": [
    "## Plot: $\\Gamma_\\text{int}$ as function of $k_x$, $k_y$ in logarithmic scale\n",
    "\n",
    "Plot 2D heatmap of the relaxation rate integrand $\\Gamma_\\text{int}$ as function of wave number components $k_x$ and $k_y$ using `pyplot.pcolormesh` in $\\log_{10}$ scale."
   ]
  },
  {
   "cell_type": "code",
   "execution_count": 13,
   "id": "52a90034",
   "metadata": {},
   "outputs": [
    {
     "data": {
      "image/png": "[encoded data removed]",
      "text/plain": [
       "<Figure size 432x288 with 2 Axes>"
      ]
     },
     "metadata": {
      "needs_background": "light"
     },
     "output_type": "display_data"
    }
   ],
   "source": [
    "fig1, ax1 = plt.subplots()\n",
    "\n",
    "# set plot labels\n",
    "ax1.set_xlabel(r\"$k_x/2\\mathregular{\\pi}$ (1/$\\mathregular{\\mu}$m)\", fontsize=18)\n",
    "ax1.set_ylabel(r\"$k_y/2\\mathregular{\\pi}$ (1/$\\mathregular{\\mu}$m)\", fontsize=18)\n",
    "\n",
    "# save pcolormesh\n",
    "im1 = ax1.pcolormesh(X, Y, Z, cmap='jet', norm=colors.LogNorm(vmin=1e-11, vmax=vmax), shading=\"auto\")\n",
    "\n",
    "# set colorbar\n",
    "cbar1 = fig1.colorbar(im1)\n",
    "cbar1.set_label(r\"$\\Delta k \\log_{10}(\\sum_{i,j} D_i D_j C_{ij})$\", fontsize=18)"
   ]
  },
  {
   "cell_type": "markdown",
   "id": "0d891484",
   "metadata": {},
   "source": [
    "Save plot (optional)."
   ]
  },
  {
   "cell_type": "code",
   "execution_count": 14,
   "id": "ef69767d",
   "metadata": {},
   "outputs": [
    {
     "name": "stdout",
     "output_type": "stream",
     "text": [
      "Plot saved in: \n",
      "\tplot-figures/figures/heatmap_logscale.png\n"
     ]
    }
   ],
   "source": [
    "path_to_file = os.path.join(path_fig, \"heatmap_logscale.png\")\n",
    "fig1.savefig(path_to_file)\n",
    "print(f\"Plot saved in: \\n\\t{path_to_file}\")"
   ]
  },
  {
   "cell_type": "markdown",
   "id": "766c8116",
   "metadata": {},
   "source": [
    "## Plot: $\\Gamma$ as function of $B$\n",
    "\n",
    "Calculate relaxation rate `Gamma` as function of external magnetic field `B`."
   ]
  },
  {
   "cell_type": "code",
   "execution_count": 15,
   "id": "8b0fc095",
   "metadata": {},
   "outputs": [],
   "source": [
    "def get_rate_vs_field():\n",
    "    x = linspace(1e-3, 50e-3, 25)\n",
    "    y = empty_like(x)\n",
    "    for i in range(len(x)):\n",
    "        rate = RelaxationRate(A_exchange=8.47e-12, \n",
    "                              distance_nv=40e-9, \n",
    "                              Gilbert_damping=50e-3,\n",
    "                              film_thickness=40e-9,\n",
    "                              M_saturation=324000,\n",
    "                              bext=x[i])\n",
    "        rate.kx_min = -5e6 * 2*pi\n",
    "        rate.kx_max = 5e6 * 2*pi\n",
    "        rate.ky_min = -2e6 * 2*pi\n",
    "        rate.ky_max = 2e6 * 2*pi\n",
    "        rate.create_k_meshgrids(x_pixels=200, y_pixels=4000)\n",
    "        rate.calculate_sum_di_dj_cij()\n",
    "        rate.create_integrand_grid_exclude_nv_distance()\n",
    "        rate.create_integrand_grid_include_nv_distance()\n",
    "        y[i] = rate.rate_in_MHz\n",
    "    return x, y"
   ]
  },
  {
   "cell_type": "markdown",
   "id": "b74656ff",
   "metadata": {},
   "source": [
    "Calculate magnetic field `B` and `rate`."
   ]
  },
  {
   "cell_type": "code",
   "execution_count": 16,
   "id": "ddec30d3",
   "metadata": {},
   "outputs": [],
   "source": [
    "B, rate = get_rate_vs_field()"
   ]
  },
  {
   "cell_type": "markdown",
   "id": "fc2c5562",
   "metadata": {},
   "source": [
    "Plot the relaxation rate $\\Gamma (B)$."
   ]
  },
  {
   "cell_type": "code",
   "execution_count": 17,
   "id": "5e68b761",
   "metadata": {
    "scrolled": false
   },
   "outputs": [
    {
     "data": {
      "image/png": "[encoded data removed]",
      "text/plain": [
       "<Figure size 432x288 with 1 Axes>"
      ]
     },
     "metadata": {
      "needs_background": "light"
     },
     "output_type": "display_data"
    }
   ],
   "source": [
    "plt.plot(B, rate)\n",
    "plt.xlabel(\"B (Tesla)\")\n",
    "plt.ylabel(\"Rate (MHz)\")\n",
    "plt.show()"
   ]
  },
  {
   "cell_type": "markdown",
   "id": "7c9327d8",
   "metadata": {},
   "source": [
    "## QI distance dependency\n",
    "\n",
    "Calculate relaxation rate $\\Gamma$ as function of distance $d$ between the QI and the magnetic film."
   ]
  },
  {
   "cell_type": "code",
   "execution_count": 18,
   "id": "435bf1f6",
   "metadata": {},
   "outputs": [],
   "source": [
    "def get_rate_vs_distance(B = 25e-3):\n",
    "    x = np.geomspace(50e-9, 500e-9, 100)\n",
    "    y = np.empty_like(x)\n",
    "    rate = RelaxationRate(bext=B)\n",
    "    rate.create_k_bounds()\n",
    "    rate.create_k_meshgrids(x_pixels=100, y_pixels=4000)\n",
    "    rate.calculate_sum_di_dj_cij()\n",
    "    rate.create_integrand_grid_exclude_nv_distance()\n",
    "    for i in range(len(x)):\n",
    "        rate.distance_nv = x[i]\n",
    "        rate.create_integrand_grid_include_nv_distance()\n",
    "        y[i] = rate.rate_in_MHz\n",
    "    return x, y"
   ]
  },
  {
   "cell_type": "markdown",
   "id": "f176b804",
   "metadata": {},
   "source": [
    "Plot the rate $\\Gamma (d)$."
   ]
  },
  {
   "cell_type": "code",
   "execution_count": 19,
   "id": "eb1a303f",
   "metadata": {},
   "outputs": [
    {
     "data": {
      "image/png": "[encoded data removed]",
      "text/plain": [
       "<Figure size 432x288 with 1 Axes>"
      ]
     },
     "metadata": {
      "needs_background": "light"
     },
     "output_type": "display_data"
    }
   ],
   "source": [
    "d, r = get_rate_vs_distance()\n",
    "\n",
    "plt.plot(d, r)\n",
    "plt.xlabel(\"Distance (m)\")\n",
    "plt.ylabel(\"Rate (MHz)\")\n",
    "plt.show()"
   ]
  },
  {
   "cell_type": "markdown",
   "id": "d7f95575",
   "metadata": {},
   "source": [
    "## Spin-Wave Dispersions\n",
    "\n",
    "Calculate relaxation rate for film thickness 235 nm."
   ]
  },
  {
   "cell_type": "code",
   "execution_count": 20,
   "id": "96858d11",
   "metadata": {},
   "outputs": [],
   "source": [
    "Gamma1 = RelaxationRate(film_thickness=235e-9)"
   ]
  },
  {
   "cell_type": "markdown",
   "id": "f690711c",
   "metadata": {},
   "source": [
    "Generate array for relevant wave numbers."
   ]
  },
  {
   "cell_type": "code",
   "execution_count": 21,
   "id": "bf385805",
   "metadata": {},
   "outputs": [],
   "source": [
    "k = np.linspace(0, 8e6 * 2 * pi, 10000)"
   ]
  },
  {
   "cell_type": "markdown",
   "id": "abba5b09",
   "metadata": {},
   "source": [
    "Calculate frequencies $\\omega$ for:\n",
    "- Backward-Volume Spin Waves (BVSWs) i.e. $k_y=0$,\n",
    "- Damon-Eshbach Spin Waves (DESWs) i.e. $k_x=0$."
   ]
  },
  {
   "cell_type": "code",
   "execution_count": 22,
   "id": "c158d3e2",
   "metadata": {},
   "outputs": [],
   "source": [
    "# BVSW (ky=0)\n",
    "Gamma1.kx = k\n",
    "Gamma1.ky = np.zeros_like(k)\n",
    "Gamma1.create_w_meshgrids()\n",
    "omega_bvsw = Gamma1.omega_spin_wave_dispersion()\n",
    "\n",
    "# DESW (kx=0)\n",
    "Gamma1.ky = k\n",
    "Gamma1.kx = np.zeros_like(k)\n",
    "Gamma1.create_w_meshgrids()\n",
    "omega_desw = Gamma1.omega_spin_wave_dispersion()"
   ]
  },
  {
   "cell_type": "markdown",
   "id": "e5316545",
   "metadata": {},
   "source": [
    "Plot dispersion for BVSWs and DESWs."
   ]
  },
  {
   "cell_type": "code",
   "execution_count": 23,
   "id": "43717507",
   "metadata": {},
   "outputs": [
    {
     "data": {
      "image/png": "[encoded data removed]",
      "text/plain": [
       "<Figure size 432x288 with 1 Axes>"
      ]
     },
     "metadata": {
      "needs_background": "light"
     },
     "output_type": "display_data"
    }
   ],
   "source": [
    "plt.plot(k*1e-6/(2*pi), omega_desw*1e-9/(2*pi), label=\"DESW\", c='b')\n",
    "plt.plot(k*1e-6/(2*pi), omega_bvsw*1e-9/(2*pi), label=\"BVSW\", c='r')\n",
    "plt.xlabel(\"k (1/um)\")\n",
    "plt.ylabel(\"f (GHz)\")\n",
    "plt.legend()\n",
    "plt.show()"
   ]
  },
  {
   "cell_type": "code",
   "execution_count": null,
   "id": "0e1f190e",
   "metadata": {},
   "outputs": [],
   "source": []
  }
 ],
 "metadata": {
  "interpreter": {
   "hash": "9f8d2e70890fccab574d9f4e03515dda70b8a48d07928b44d014176c20176d7a"
  },
  "kernelspec": {
   "display_name": "Python 3.9.12 ('.venv': venv)",
   "language": "python",
   "name": "python3"
  },
  "language_info": {
   "codemirror_mode": {
    "name": "ipython",
    "version": 3
   },
   "file_extension": ".py",
   "mimetype": "text/x-python",
   "name": "python",
   "nbconvert_exporter": "python",
   "pygments_lexer": "ipython3",
   "version": "3.9.12"
  }
 },
 "nbformat": 4,
 "nbformat_minor": 5
}
